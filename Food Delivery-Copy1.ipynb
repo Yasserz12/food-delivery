{
 "cells": [
  {
   "cell_type": "code",
   "execution_count": 1,
   "metadata": {},
   "outputs": [],
   "source": [
    "# import neccessary libraries \n",
    "\n",
    "import pandas as pd \n",
    "from matplotlib import pyplot as plt"
   ]
  },
  {
   "cell_type": "code",
   "execution_count": 2,
   "metadata": {},
   "outputs": [],
   "source": [
    "# load and read the data \n",
    "\n",
    "df = pd.read_csv(\"onlinedeliverydata.csv\", sep = \";\")"
   ]
  },
  {
   "cell_type": "code",
   "execution_count": 3,
   "metadata": {},
   "outputs": [
    {
     "data": {
      "text/html": [
       "<div>\n",
       "<style scoped>\n",
       "    .dataframe tbody tr th:only-of-type {\n",
       "        vertical-align: middle;\n",
       "    }\n",
       "\n",
       "    .dataframe tbody tr th {\n",
       "        vertical-align: top;\n",
       "    }\n",
       "\n",
       "    .dataframe thead th {\n",
       "        text-align: right;\n",
       "    }\n",
       "</style>\n",
       "<table border=\"1\" class=\"dataframe\">\n",
       "  <thead>\n",
       "    <tr style=\"text-align: right;\">\n",
       "      <th></th>\n",
       "      <th>Age</th>\n",
       "      <th>Gender</th>\n",
       "      <th>Marital Status</th>\n",
       "      <th>Occupation</th>\n",
       "      <th>Monthly Income</th>\n",
       "      <th>Educational Qualifications</th>\n",
       "      <th>Family size</th>\n",
       "      <th>latitude</th>\n",
       "      <th>longitude</th>\n",
       "      <th>Pin code</th>\n",
       "      <th>...</th>\n",
       "      <th>Influence of rating</th>\n",
       "      <th>Less Delivery time</th>\n",
       "      <th>High Quality of package</th>\n",
       "      <th>Number of calls</th>\n",
       "      <th>Politeness</th>\n",
       "      <th>Freshness</th>\n",
       "      <th>Temperature</th>\n",
       "      <th>Good Taste</th>\n",
       "      <th>Good Quantity</th>\n",
       "      <th>Output</th>\n",
       "    </tr>\n",
       "  </thead>\n",
       "  <tbody>\n",
       "    <tr>\n",
       "      <th>0</th>\n",
       "      <td>20</td>\n",
       "      <td>Female</td>\n",
       "      <td>Single</td>\n",
       "      <td>Student</td>\n",
       "      <td>No Income</td>\n",
       "      <td>Post Graduate</td>\n",
       "      <td>4</td>\n",
       "      <td>12.9766</td>\n",
       "      <td>77.5993</td>\n",
       "      <td>560001</td>\n",
       "      <td>...</td>\n",
       "      <td>Yes</td>\n",
       "      <td>Moderately Important</td>\n",
       "      <td>Moderately Important</td>\n",
       "      <td>Moderately Important</td>\n",
       "      <td>Moderately Important</td>\n",
       "      <td>Moderately Important</td>\n",
       "      <td>Moderately Important</td>\n",
       "      <td>Moderately Important</td>\n",
       "      <td>Moderately Important</td>\n",
       "      <td>Yes</td>\n",
       "    </tr>\n",
       "    <tr>\n",
       "      <th>1</th>\n",
       "      <td>22</td>\n",
       "      <td>Female</td>\n",
       "      <td>Single</td>\n",
       "      <td>Student</td>\n",
       "      <td>No Income</td>\n",
       "      <td>Graduate</td>\n",
       "      <td>6</td>\n",
       "      <td>12.9473</td>\n",
       "      <td>77.5616</td>\n",
       "      <td>560019</td>\n",
       "      <td>...</td>\n",
       "      <td>Yes</td>\n",
       "      <td>Very Important</td>\n",
       "      <td>Important</td>\n",
       "      <td>Moderately Important</td>\n",
       "      <td>Very Important</td>\n",
       "      <td>Very Important</td>\n",
       "      <td>Very Important</td>\n",
       "      <td>Very Important</td>\n",
       "      <td>Important</td>\n",
       "      <td>Yes</td>\n",
       "    </tr>\n",
       "    <tr>\n",
       "      <th>2</th>\n",
       "      <td>22</td>\n",
       "      <td>Male</td>\n",
       "      <td>Single</td>\n",
       "      <td>Student</td>\n",
       "      <td>Below Rs.10000</td>\n",
       "      <td>Post Graduate</td>\n",
       "      <td>4</td>\n",
       "      <td>12.9850</td>\n",
       "      <td>77.5533</td>\n",
       "      <td>560010</td>\n",
       "      <td>...</td>\n",
       "      <td>Yes</td>\n",
       "      <td>Important</td>\n",
       "      <td>Important</td>\n",
       "      <td>Moderately Important</td>\n",
       "      <td>Important</td>\n",
       "      <td>Important</td>\n",
       "      <td>Important</td>\n",
       "      <td>Very Important</td>\n",
       "      <td>Very Important</td>\n",
       "      <td>Yes</td>\n",
       "    </tr>\n",
       "    <tr>\n",
       "      <th>3</th>\n",
       "      <td>27</td>\n",
       "      <td>Female</td>\n",
       "      <td>Married</td>\n",
       "      <td>Employee</td>\n",
       "      <td>More than 50000</td>\n",
       "      <td>Post Graduate</td>\n",
       "      <td>2</td>\n",
       "      <td>12.9299</td>\n",
       "      <td>77.6848</td>\n",
       "      <td>560103</td>\n",
       "      <td>...</td>\n",
       "      <td>Yes</td>\n",
       "      <td>Important</td>\n",
       "      <td>Very Important</td>\n",
       "      <td>Very Important</td>\n",
       "      <td>Very Important</td>\n",
       "      <td>Very Important</td>\n",
       "      <td>Very Important</td>\n",
       "      <td>Very Important</td>\n",
       "      <td>Very Important</td>\n",
       "      <td>Yes</td>\n",
       "    </tr>\n",
       "    <tr>\n",
       "      <th>4</th>\n",
       "      <td>22</td>\n",
       "      <td>Male</td>\n",
       "      <td>Single</td>\n",
       "      <td>Student</td>\n",
       "      <td>No Income</td>\n",
       "      <td>Graduate</td>\n",
       "      <td>3</td>\n",
       "      <td>12.9770</td>\n",
       "      <td>77.5773</td>\n",
       "      <td>560009</td>\n",
       "      <td>...</td>\n",
       "      <td>Yes</td>\n",
       "      <td>Very Important</td>\n",
       "      <td>Very Important</td>\n",
       "      <td>Unimportant</td>\n",
       "      <td>Important</td>\n",
       "      <td>Very Important</td>\n",
       "      <td>Very Important</td>\n",
       "      <td>Very Important</td>\n",
       "      <td>Very Important</td>\n",
       "      <td>Yes</td>\n",
       "    </tr>\n",
       "  </tbody>\n",
       "</table>\n",
       "<p>5 rows × 54 columns</p>\n",
       "</div>"
      ],
      "text/plain": [
       "   Age  Gender Marital Status Occupation   Monthly Income  \\\n",
       "0   20  Female         Single    Student        No Income   \n",
       "1   22  Female         Single    Student        No Income   \n",
       "2   22    Male         Single    Student   Below Rs.10000   \n",
       "3   27  Female        Married   Employee  More than 50000   \n",
       "4   22    Male         Single    Student        No Income   \n",
       "\n",
       "  Educational Qualifications  Family size  latitude  longitude  Pin code  ...  \\\n",
       "0              Post Graduate            4   12.9766    77.5993    560001  ...   \n",
       "1                   Graduate            6   12.9473    77.5616    560019  ...   \n",
       "2              Post Graduate            4   12.9850    77.5533    560010  ...   \n",
       "3              Post Graduate            2   12.9299    77.6848    560103  ...   \n",
       "4                   Graduate            3   12.9770    77.5773    560009  ...   \n",
       "\n",
       "  Influence of rating    Less Delivery time High Quality of package  \\\n",
       "0                 Yes  Moderately Important    Moderately Important   \n",
       "1                 Yes        Very Important               Important   \n",
       "2                 Yes             Important               Important   \n",
       "3                 Yes             Important          Very Important   \n",
       "4                 Yes        Very Important          Very Important   \n",
       "\n",
       "        Number of calls            Politeness            Freshness   \\\n",
       "0  Moderately Important  Moderately Important  Moderately Important   \n",
       "1  Moderately Important        Very Important        Very Important   \n",
       "2  Moderately Important             Important             Important   \n",
       "3        Very Important        Very Important        Very Important   \n",
       "4           Unimportant             Important        Very Important   \n",
       "\n",
       "            Temperature           Good Taste          Good Quantity Output  \n",
       "0  Moderately Important  Moderately Important  Moderately Important    Yes  \n",
       "1        Very Important        Very Important             Important    Yes  \n",
       "2             Important        Very Important        Very Important    Yes  \n",
       "3        Very Important        Very Important        Very Important    Yes  \n",
       "4        Very Important        Very Important        Very Important    Yes  \n",
       "\n",
       "[5 rows x 54 columns]"
      ]
     },
     "execution_count": 3,
     "metadata": {},
     "output_type": "execute_result"
    }
   ],
   "source": [
    "# explore the data\n",
    "\n",
    "df.head()"
   ]
  },
  {
   "cell_type": "code",
   "execution_count": 4,
   "metadata": {},
   "outputs": [
    {
     "data": {
      "text/plain": [
       "Index(['Age', 'Gender', 'Marital Status', 'Occupation', 'Monthly Income',\n",
       "       'Educational Qualifications', 'Family size', 'latitude', 'longitude',\n",
       "       'Pin code', 'Medium (P1)', 'Medium (P2)', 'Meal(P1)', 'Meal(P2)',\n",
       "       'Perference(P1)', 'Perference(P2)', 'Maximum wait time', 'Time saving',\n",
       "       'More restaurant choices', 'Easy Payment option',\n",
       "       'More Offers and Discount', 'Good Food quality', 'Good Tracking system',\n",
       "       'Self Cooking', 'Health Concern', 'Late Delivery', 'Poor Hygiene',\n",
       "       'Bad past experience', 'Unavailability', 'Unaffordable',\n",
       "       'Long delivery time', 'Delay of delivery person getting assigned',\n",
       "       'Delay of delivery person picking up food', 'Wrong order delivered',\n",
       "       'Missing item', 'Order placed by mistake', 'Influence of time',\n",
       "       'Order Time', 'Unnamed: 38', 'Residence in busy location',\n",
       "       'Google Maps Accuracy', 'Good Road Condition', 'Low quantity low time',\n",
       "       'Delivery person ability', 'Influence of rating', 'Less Delivery time',\n",
       "       'High Quality of package', 'Number of calls', 'Politeness',\n",
       "       'Freshness ', 'Temperature', 'Good Taste ', 'Good Quantity', 'Output'],\n",
       "      dtype='object')"
      ]
     },
     "execution_count": 4,
     "metadata": {},
     "output_type": "execute_result"
    }
   ],
   "source": [
    "# explore the columns \n",
    "\n",
    "df.columns"
   ]
  },
  {
   "cell_type": "code",
   "execution_count": 5,
   "metadata": {},
   "outputs": [],
   "source": [
    "# Slice the data with the columns we are only interested in \n",
    "\n",
    "df = df.loc[: , \"Age\":\"Maximum wait time\"]"
   ]
  },
  {
   "cell_type": "code",
   "execution_count": 6,
   "metadata": {},
   "outputs": [
    {
     "data": {
      "text/html": [
       "<div>\n",
       "<style scoped>\n",
       "    .dataframe tbody tr th:only-of-type {\n",
       "        vertical-align: middle;\n",
       "    }\n",
       "\n",
       "    .dataframe tbody tr th {\n",
       "        vertical-align: top;\n",
       "    }\n",
       "\n",
       "    .dataframe thead th {\n",
       "        text-align: right;\n",
       "    }\n",
       "</style>\n",
       "<table border=\"1\" class=\"dataframe\">\n",
       "  <thead>\n",
       "    <tr style=\"text-align: right;\">\n",
       "      <th></th>\n",
       "      <th>Age</th>\n",
       "      <th>Gender</th>\n",
       "      <th>Marital Status</th>\n",
       "      <th>Occupation</th>\n",
       "      <th>Monthly Income</th>\n",
       "      <th>Educational Qualifications</th>\n",
       "      <th>Family size</th>\n",
       "      <th>latitude</th>\n",
       "      <th>longitude</th>\n",
       "      <th>Pin code</th>\n",
       "      <th>Medium (P1)</th>\n",
       "      <th>Medium (P2)</th>\n",
       "      <th>Meal(P1)</th>\n",
       "      <th>Meal(P2)</th>\n",
       "      <th>Perference(P1)</th>\n",
       "      <th>Perference(P2)</th>\n",
       "      <th>Maximum wait time</th>\n",
       "    </tr>\n",
       "  </thead>\n",
       "  <tbody>\n",
       "    <tr>\n",
       "      <th>0</th>\n",
       "      <td>20</td>\n",
       "      <td>Female</td>\n",
       "      <td>Single</td>\n",
       "      <td>Student</td>\n",
       "      <td>No Income</td>\n",
       "      <td>Post Graduate</td>\n",
       "      <td>4</td>\n",
       "      <td>12.9766</td>\n",
       "      <td>77.5993</td>\n",
       "      <td>560001</td>\n",
       "      <td>Food delivery apps</td>\n",
       "      <td>Web browser</td>\n",
       "      <td>Breakfast</td>\n",
       "      <td>Lunch</td>\n",
       "      <td>Non Veg foods (Lunch / Dinner)</td>\n",
       "      <td>Bakery items (snacks)</td>\n",
       "      <td>30 minutes</td>\n",
       "    </tr>\n",
       "    <tr>\n",
       "      <th>1</th>\n",
       "      <td>22</td>\n",
       "      <td>Female</td>\n",
       "      <td>Single</td>\n",
       "      <td>Student</td>\n",
       "      <td>No Income</td>\n",
       "      <td>Graduate</td>\n",
       "      <td>6</td>\n",
       "      <td>12.9473</td>\n",
       "      <td>77.5616</td>\n",
       "      <td>560019</td>\n",
       "      <td>Food delivery apps</td>\n",
       "      <td>Walk-in</td>\n",
       "      <td>Snacks</td>\n",
       "      <td>Dinner</td>\n",
       "      <td>Veg foods (Breakfast / Lunch / Dinner)</td>\n",
       "      <td>Bakery items (snacks)</td>\n",
       "      <td>30 minutes</td>\n",
       "    </tr>\n",
       "    <tr>\n",
       "      <th>2</th>\n",
       "      <td>22</td>\n",
       "      <td>Male</td>\n",
       "      <td>Single</td>\n",
       "      <td>Student</td>\n",
       "      <td>Below Rs.10000</td>\n",
       "      <td>Post Graduate</td>\n",
       "      <td>4</td>\n",
       "      <td>12.9850</td>\n",
       "      <td>77.5533</td>\n",
       "      <td>560010</td>\n",
       "      <td>Walk-in</td>\n",
       "      <td>Direct call</td>\n",
       "      <td>Lunch</td>\n",
       "      <td>Dinner</td>\n",
       "      <td>Non Veg foods (Lunch / Dinner)</td>\n",
       "      <td>Veg foods (Breakfast / Lunch / Dinner)</td>\n",
       "      <td>30 minutes</td>\n",
       "    </tr>\n",
       "    <tr>\n",
       "      <th>3</th>\n",
       "      <td>27</td>\n",
       "      <td>Female</td>\n",
       "      <td>Married</td>\n",
       "      <td>Employee</td>\n",
       "      <td>More than 50000</td>\n",
       "      <td>Post Graduate</td>\n",
       "      <td>2</td>\n",
       "      <td>12.9299</td>\n",
       "      <td>77.6848</td>\n",
       "      <td>560103</td>\n",
       "      <td>Food delivery apps</td>\n",
       "      <td>Walk-in</td>\n",
       "      <td>Lunch</td>\n",
       "      <td>Dinner</td>\n",
       "      <td>Non Veg foods (Lunch / Dinner)</td>\n",
       "      <td>Veg foods (Breakfast / Lunch / Dinner)</td>\n",
       "      <td>45 minutes</td>\n",
       "    </tr>\n",
       "    <tr>\n",
       "      <th>4</th>\n",
       "      <td>22</td>\n",
       "      <td>Male</td>\n",
       "      <td>Single</td>\n",
       "      <td>Student</td>\n",
       "      <td>No Income</td>\n",
       "      <td>Graduate</td>\n",
       "      <td>3</td>\n",
       "      <td>12.9770</td>\n",
       "      <td>77.5773</td>\n",
       "      <td>560009</td>\n",
       "      <td>Food delivery apps</td>\n",
       "      <td>Direct call</td>\n",
       "      <td>Lunch</td>\n",
       "      <td>Dinner</td>\n",
       "      <td>Non Veg foods (Lunch / Dinner)</td>\n",
       "      <td>Veg foods (Breakfast / Lunch / Dinner)</td>\n",
       "      <td>45 minutes</td>\n",
       "    </tr>\n",
       "  </tbody>\n",
       "</table>\n",
       "</div>"
      ],
      "text/plain": [
       "   Age  Gender Marital Status Occupation   Monthly Income  \\\n",
       "0   20  Female         Single    Student        No Income   \n",
       "1   22  Female         Single    Student        No Income   \n",
       "2   22    Male         Single    Student   Below Rs.10000   \n",
       "3   27  Female        Married   Employee  More than 50000   \n",
       "4   22    Male         Single    Student        No Income   \n",
       "\n",
       "  Educational Qualifications  Family size  latitude  longitude  Pin code  \\\n",
       "0              Post Graduate            4   12.9766    77.5993    560001   \n",
       "1                   Graduate            6   12.9473    77.5616    560019   \n",
       "2              Post Graduate            4   12.9850    77.5533    560010   \n",
       "3              Post Graduate            2   12.9299    77.6848    560103   \n",
       "4                   Graduate            3   12.9770    77.5773    560009   \n",
       "\n",
       "          Medium (P1)   Medium (P2)   Meal(P1) Meal(P2)  \\\n",
       "0  Food delivery apps   Web browser  Breakfast    Lunch   \n",
       "1  Food delivery apps       Walk-in     Snacks   Dinner   \n",
       "2             Walk-in   Direct call      Lunch   Dinner   \n",
       "3  Food delivery apps       Walk-in      Lunch   Dinner   \n",
       "4  Food delivery apps   Direct call      Lunch   Dinner   \n",
       "\n",
       "                           Perference(P1)  \\\n",
       "0          Non Veg foods (Lunch / Dinner)   \n",
       "1  Veg foods (Breakfast / Lunch / Dinner)   \n",
       "2          Non Veg foods (Lunch / Dinner)   \n",
       "3          Non Veg foods (Lunch / Dinner)   \n",
       "4          Non Veg foods (Lunch / Dinner)   \n",
       "\n",
       "                            Perference(P2) Maximum wait time  \n",
       "0                    Bakery items (snacks)        30 minutes  \n",
       "1                    Bakery items (snacks)        30 minutes  \n",
       "2   Veg foods (Breakfast / Lunch / Dinner)        30 minutes  \n",
       "3   Veg foods (Breakfast / Lunch / Dinner)        45 minutes  \n",
       "4   Veg foods (Breakfast / Lunch / Dinner)        45 minutes  "
      ]
     },
     "execution_count": 6,
     "metadata": {},
     "output_type": "execute_result"
    }
   ],
   "source": [
    "df.head()"
   ]
  },
  {
   "cell_type": "code",
   "execution_count": 7,
   "metadata": {},
   "outputs": [
    {
     "name": "stdout",
     "output_type": "stream",
     "text": [
      "<class 'pandas.core.frame.DataFrame'>\n",
      "RangeIndex: 386 entries, 0 to 385\n",
      "Data columns (total 17 columns):\n",
      " #   Column                      Non-Null Count  Dtype  \n",
      "---  ------                      --------------  -----  \n",
      " 0   Age                         386 non-null    int64  \n",
      " 1   Gender                      386 non-null    object \n",
      " 2   Marital Status              386 non-null    object \n",
      " 3   Occupation                  386 non-null    object \n",
      " 4   Monthly Income              386 non-null    object \n",
      " 5   Educational Qualifications  386 non-null    object \n",
      " 6   Family size                 386 non-null    int64  \n",
      " 7   latitude                    386 non-null    float64\n",
      " 8   longitude                   386 non-null    float64\n",
      " 9   Pin code                    386 non-null    int64  \n",
      " 10  Medium (P1)                 386 non-null    object \n",
      " 11  Medium (P2)                 386 non-null    object \n",
      " 12  Meal(P1)                    386 non-null    object \n",
      " 13  Meal(P2)                    386 non-null    object \n",
      " 14  Perference(P1)              386 non-null    object \n",
      " 15  Perference(P2)              386 non-null    object \n",
      " 16  Maximum wait time           386 non-null    object \n",
      "dtypes: float64(2), int64(3), object(12)\n",
      "memory usage: 51.4+ KB\n"
     ]
    }
   ],
   "source": [
    "# getting informations about the data \n",
    "df.info()"
   ]
  },
  {
   "cell_type": "markdown",
   "metadata": {},
   "source": [
    "Issues need to be solved \n",
    "\n",
    "- change the age data type from object to int"
   ]
  },
  {
   "cell_type": "code",
   "execution_count": 8,
   "metadata": {},
   "outputs": [],
   "source": [
    "df[\"Age\"] = df[\"Age\"].astype(int)"
   ]
  },
  {
   "cell_type": "code",
   "execution_count": 9,
   "metadata": {},
   "outputs": [
    {
     "name": "stdout",
     "output_type": "stream",
     "text": [
      "<class 'pandas.core.frame.DataFrame'>\n",
      "RangeIndex: 386 entries, 0 to 385\n",
      "Data columns (total 17 columns):\n",
      " #   Column                      Non-Null Count  Dtype  \n",
      "---  ------                      --------------  -----  \n",
      " 0   Age                         386 non-null    int32  \n",
      " 1   Gender                      386 non-null    object \n",
      " 2   Marital Status              386 non-null    object \n",
      " 3   Occupation                  386 non-null    object \n",
      " 4   Monthly Income              386 non-null    object \n",
      " 5   Educational Qualifications  386 non-null    object \n",
      " 6   Family size                 386 non-null    int64  \n",
      " 7   latitude                    386 non-null    float64\n",
      " 8   longitude                   386 non-null    float64\n",
      " 9   Pin code                    386 non-null    int64  \n",
      " 10  Medium (P1)                 386 non-null    object \n",
      " 11  Medium (P2)                 386 non-null    object \n",
      " 12  Meal(P1)                    386 non-null    object \n",
      " 13  Meal(P2)                    386 non-null    object \n",
      " 14  Perference(P1)              386 non-null    object \n",
      " 15  Perference(P2)              386 non-null    object \n",
      " 16  Maximum wait time           386 non-null    object \n",
      "dtypes: float64(2), int32(1), int64(2), object(12)\n",
      "memory usage: 49.9+ KB\n"
     ]
    }
   ],
   "source": [
    "df.info()"
   ]
  },
  {
   "cell_type": "code",
   "execution_count": 33,
   "metadata": {},
   "outputs": [
    {
     "data": {
      "text/plain": [
       "Age                           False\n",
       "Gender                        False\n",
       "Marital Status                False\n",
       "Occupation                    False\n",
       "Monthly Income                False\n",
       "Educational Qualifications    False\n",
       "Family size                   False\n",
       "latitude                      False\n",
       "longitude                     False\n",
       "Pin code                      False\n",
       "Medium (P1)                   False\n",
       "Medium (P2)                   False\n",
       "Meal(P1)                      False\n",
       "Meal(P2)                      False\n",
       "Perference(P1)                False\n",
       "Perference(P2)                False\n",
       "Maximum wait time             False\n",
       "dtype: bool"
      ]
     },
     "execution_count": 33,
     "metadata": {},
     "output_type": "execute_result"
    }
   ],
   "source": [
    "# check for nulls \n",
    "df.isna().any()"
   ]
  },
  {
   "cell_type": "code",
   "execution_count": 10,
   "metadata": {},
   "outputs": [
    {
     "data": {
      "text/plain": [
       "(386, 17)"
      ]
     },
     "execution_count": 10,
     "metadata": {},
     "output_type": "execute_result"
    }
   ],
   "source": [
    "# find the shape of the data\n",
    "\n",
    "df.shape"
   ]
  },
  {
   "cell_type": "code",
   "execution_count": 11,
   "metadata": {},
   "outputs": [
    {
     "data": {
      "text/plain": [
       "Male      221\n",
       "Female    165\n",
       "Name: Gender, dtype: int64"
      ]
     },
     "execution_count": 11,
     "metadata": {},
     "output_type": "execute_result"
    }
   ],
   "source": [
    "# find more about the data columns\n",
    "df[\"Gender\"].value_counts()"
   ]
  },
  {
   "cell_type": "code",
   "execution_count": 12,
   "metadata": {},
   "outputs": [
    {
     "data": {
      "text/plain": [
       "array(['30 minutes', '45 minutes', '60 minutes', 'More than 60 minutes',\n",
       "       '15 minutes'], dtype=object)"
      ]
     },
     "execution_count": 12,
     "metadata": {},
     "output_type": "execute_result"
    }
   ],
   "source": [
    "df[\"Maximum wait time\"].unique()"
   ]
  },
  {
   "cell_type": "markdown",
   "metadata": {},
   "source": [
    "we will replace \"more than 60 minutes\" to 70 minutes"
   ]
  },
  {
   "cell_type": "code",
   "execution_count": 13,
   "metadata": {},
   "outputs": [],
   "source": [
    "df[\"Maximum wait time\"] = df[\"Maximum wait time\"].replace(\"More than 60 minutes\" , \"70 minutes\")"
   ]
  },
  {
   "cell_type": "code",
   "execution_count": 14,
   "metadata": {},
   "outputs": [
    {
     "data": {
      "text/plain": [
       "array(['30 minutes', '45 minutes', '60 minutes', '70 minutes',\n",
       "       '15 minutes'], dtype=object)"
      ]
     },
     "execution_count": 14,
     "metadata": {},
     "output_type": "execute_result"
    }
   ],
   "source": [
    "df[\"Maximum wait time\"].unique()"
   ]
  },
  {
   "cell_type": "markdown",
   "metadata": {},
   "source": [
    "now we will get only the number from the column "
   ]
  },
  {
   "cell_type": "code",
   "execution_count": 22,
   "metadata": {},
   "outputs": [],
   "source": [
    "# apply lambda function to get only the number\n",
    "\n",
    "df[\"Maximum wait time\"] = df[\"Maximum wait time\"].apply(lambda x :x.split()[0])"
   ]
  },
  {
   "cell_type": "code",
   "execution_count": 20,
   "metadata": {},
   "outputs": [
    {
     "data": {
      "text/plain": [
       "array(['30', '45', '60', '70', '15'], dtype=object)"
      ]
     },
     "execution_count": 20,
     "metadata": {},
     "output_type": "execute_result"
    }
   ],
   "source": [
    "df[\"Maximum wait time\"].unique()"
   ]
  },
  {
   "cell_type": "code",
   "execution_count": 21,
   "metadata": {},
   "outputs": [
    {
     "data": {
      "text/html": [
       "<div>\n",
       "<style scoped>\n",
       "    .dataframe tbody tr th:only-of-type {\n",
       "        vertical-align: middle;\n",
       "    }\n",
       "\n",
       "    .dataframe tbody tr th {\n",
       "        vertical-align: top;\n",
       "    }\n",
       "\n",
       "    .dataframe thead th {\n",
       "        text-align: right;\n",
       "    }\n",
       "</style>\n",
       "<table border=\"1\" class=\"dataframe\">\n",
       "  <thead>\n",
       "    <tr style=\"text-align: right;\">\n",
       "      <th></th>\n",
       "      <th>Age</th>\n",
       "      <th>Gender</th>\n",
       "      <th>Marital Status</th>\n",
       "      <th>Occupation</th>\n",
       "      <th>Monthly Income</th>\n",
       "      <th>Educational Qualifications</th>\n",
       "      <th>Family size</th>\n",
       "      <th>latitude</th>\n",
       "      <th>longitude</th>\n",
       "      <th>Pin code</th>\n",
       "      <th>Medium (P1)</th>\n",
       "      <th>Medium (P2)</th>\n",
       "      <th>Meal(P1)</th>\n",
       "      <th>Meal(P2)</th>\n",
       "      <th>Perference(P1)</th>\n",
       "      <th>Perference(P2)</th>\n",
       "      <th>Maximum wait time</th>\n",
       "    </tr>\n",
       "  </thead>\n",
       "  <tbody>\n",
       "    <tr>\n",
       "      <th>0</th>\n",
       "      <td>20</td>\n",
       "      <td>Female</td>\n",
       "      <td>Single</td>\n",
       "      <td>Student</td>\n",
       "      <td>No Income</td>\n",
       "      <td>Post Graduate</td>\n",
       "      <td>4</td>\n",
       "      <td>12.9766</td>\n",
       "      <td>77.5993</td>\n",
       "      <td>560001</td>\n",
       "      <td>Food delivery apps</td>\n",
       "      <td>Web browser</td>\n",
       "      <td>Breakfast</td>\n",
       "      <td>Lunch</td>\n",
       "      <td>Non Veg foods (Lunch / Dinner)</td>\n",
       "      <td>Bakery items (snacks)</td>\n",
       "      <td>30</td>\n",
       "    </tr>\n",
       "    <tr>\n",
       "      <th>1</th>\n",
       "      <td>22</td>\n",
       "      <td>Female</td>\n",
       "      <td>Single</td>\n",
       "      <td>Student</td>\n",
       "      <td>No Income</td>\n",
       "      <td>Graduate</td>\n",
       "      <td>6</td>\n",
       "      <td>12.9473</td>\n",
       "      <td>77.5616</td>\n",
       "      <td>560019</td>\n",
       "      <td>Food delivery apps</td>\n",
       "      <td>Walk-in</td>\n",
       "      <td>Snacks</td>\n",
       "      <td>Dinner</td>\n",
       "      <td>Veg foods (Breakfast / Lunch / Dinner)</td>\n",
       "      <td>Bakery items (snacks)</td>\n",
       "      <td>30</td>\n",
       "    </tr>\n",
       "    <tr>\n",
       "      <th>2</th>\n",
       "      <td>22</td>\n",
       "      <td>Male</td>\n",
       "      <td>Single</td>\n",
       "      <td>Student</td>\n",
       "      <td>Below Rs.10000</td>\n",
       "      <td>Post Graduate</td>\n",
       "      <td>4</td>\n",
       "      <td>12.9850</td>\n",
       "      <td>77.5533</td>\n",
       "      <td>560010</td>\n",
       "      <td>Walk-in</td>\n",
       "      <td>Direct call</td>\n",
       "      <td>Lunch</td>\n",
       "      <td>Dinner</td>\n",
       "      <td>Non Veg foods (Lunch / Dinner)</td>\n",
       "      <td>Veg foods (Breakfast / Lunch / Dinner)</td>\n",
       "      <td>30</td>\n",
       "    </tr>\n",
       "    <tr>\n",
       "      <th>3</th>\n",
       "      <td>27</td>\n",
       "      <td>Female</td>\n",
       "      <td>Married</td>\n",
       "      <td>Employee</td>\n",
       "      <td>More than 50000</td>\n",
       "      <td>Post Graduate</td>\n",
       "      <td>2</td>\n",
       "      <td>12.9299</td>\n",
       "      <td>77.6848</td>\n",
       "      <td>560103</td>\n",
       "      <td>Food delivery apps</td>\n",
       "      <td>Walk-in</td>\n",
       "      <td>Lunch</td>\n",
       "      <td>Dinner</td>\n",
       "      <td>Non Veg foods (Lunch / Dinner)</td>\n",
       "      <td>Veg foods (Breakfast / Lunch / Dinner)</td>\n",
       "      <td>45</td>\n",
       "    </tr>\n",
       "    <tr>\n",
       "      <th>4</th>\n",
       "      <td>22</td>\n",
       "      <td>Male</td>\n",
       "      <td>Single</td>\n",
       "      <td>Student</td>\n",
       "      <td>No Income</td>\n",
       "      <td>Graduate</td>\n",
       "      <td>3</td>\n",
       "      <td>12.9770</td>\n",
       "      <td>77.5773</td>\n",
       "      <td>560009</td>\n",
       "      <td>Food delivery apps</td>\n",
       "      <td>Direct call</td>\n",
       "      <td>Lunch</td>\n",
       "      <td>Dinner</td>\n",
       "      <td>Non Veg foods (Lunch / Dinner)</td>\n",
       "      <td>Veg foods (Breakfast / Lunch / Dinner)</td>\n",
       "      <td>45</td>\n",
       "    </tr>\n",
       "  </tbody>\n",
       "</table>\n",
       "</div>"
      ],
      "text/plain": [
       "   Age  Gender Marital Status Occupation   Monthly Income  \\\n",
       "0   20  Female         Single    Student        No Income   \n",
       "1   22  Female         Single    Student        No Income   \n",
       "2   22    Male         Single    Student   Below Rs.10000   \n",
       "3   27  Female        Married   Employee  More than 50000   \n",
       "4   22    Male         Single    Student        No Income   \n",
       "\n",
       "  Educational Qualifications  Family size  latitude  longitude  Pin code  \\\n",
       "0              Post Graduate            4   12.9766    77.5993    560001   \n",
       "1                   Graduate            6   12.9473    77.5616    560019   \n",
       "2              Post Graduate            4   12.9850    77.5533    560010   \n",
       "3              Post Graduate            2   12.9299    77.6848    560103   \n",
       "4                   Graduate            3   12.9770    77.5773    560009   \n",
       "\n",
       "          Medium (P1)   Medium (P2)   Meal(P1) Meal(P2)  \\\n",
       "0  Food delivery apps   Web browser  Breakfast    Lunch   \n",
       "1  Food delivery apps       Walk-in     Snacks   Dinner   \n",
       "2             Walk-in   Direct call      Lunch   Dinner   \n",
       "3  Food delivery apps       Walk-in      Lunch   Dinner   \n",
       "4  Food delivery apps   Direct call      Lunch   Dinner   \n",
       "\n",
       "                           Perference(P1)  \\\n",
       "0          Non Veg foods (Lunch / Dinner)   \n",
       "1  Veg foods (Breakfast / Lunch / Dinner)   \n",
       "2          Non Veg foods (Lunch / Dinner)   \n",
       "3          Non Veg foods (Lunch / Dinner)   \n",
       "4          Non Veg foods (Lunch / Dinner)   \n",
       "\n",
       "                            Perference(P2) Maximum wait time  \n",
       "0                    Bakery items (snacks)                30  \n",
       "1                    Bakery items (snacks)                30  \n",
       "2   Veg foods (Breakfast / Lunch / Dinner)                30  \n",
       "3   Veg foods (Breakfast / Lunch / Dinner)                45  \n",
       "4   Veg foods (Breakfast / Lunch / Dinner)                45  "
      ]
     },
     "execution_count": 21,
     "metadata": {},
     "output_type": "execute_result"
    }
   ],
   "source": [
    "df.head()"
   ]
  },
  {
   "cell_type": "code",
   "execution_count": 23,
   "metadata": {},
   "outputs": [
    {
     "name": "stdout",
     "output_type": "stream",
     "text": [
      "<class 'pandas.core.frame.DataFrame'>\n",
      "RangeIndex: 386 entries, 0 to 385\n",
      "Data columns (total 17 columns):\n",
      " #   Column                      Non-Null Count  Dtype  \n",
      "---  ------                      --------------  -----  \n",
      " 0   Age                         386 non-null    int32  \n",
      " 1   Gender                      386 non-null    object \n",
      " 2   Marital Status              386 non-null    object \n",
      " 3   Occupation                  386 non-null    object \n",
      " 4   Monthly Income              386 non-null    object \n",
      " 5   Educational Qualifications  386 non-null    object \n",
      " 6   Family size                 386 non-null    int64  \n",
      " 7   latitude                    386 non-null    float64\n",
      " 8   longitude                   386 non-null    float64\n",
      " 9   Pin code                    386 non-null    int64  \n",
      " 10  Medium (P1)                 386 non-null    object \n",
      " 11  Medium (P2)                 386 non-null    object \n",
      " 12  Meal(P1)                    386 non-null    object \n",
      " 13  Meal(P2)                    386 non-null    object \n",
      " 14  Perference(P1)              386 non-null    object \n",
      " 15  Perference(P2)              386 non-null    object \n",
      " 16  Maximum wait time           386 non-null    object \n",
      "dtypes: float64(2), int32(1), int64(2), object(12)\n",
      "memory usage: 49.9+ KB\n"
     ]
    }
   ],
   "source": [
    "df.info()"
   ]
  },
  {
   "cell_type": "markdown",
   "metadata": {},
   "source": [
    "now we will change the data type of \"Maximum wait time\" to int"
   ]
  },
  {
   "cell_type": "code",
   "execution_count": 24,
   "metadata": {},
   "outputs": [],
   "source": [
    "df[\"Maximum wait time\"] = df[\"Maximum wait time\"].astype(int)"
   ]
  },
  {
   "cell_type": "code",
   "execution_count": 25,
   "metadata": {},
   "outputs": [
    {
     "name": "stdout",
     "output_type": "stream",
     "text": [
      "<class 'pandas.core.frame.DataFrame'>\n",
      "RangeIndex: 386 entries, 0 to 385\n",
      "Data columns (total 17 columns):\n",
      " #   Column                      Non-Null Count  Dtype  \n",
      "---  ------                      --------------  -----  \n",
      " 0   Age                         386 non-null    int32  \n",
      " 1   Gender                      386 non-null    object \n",
      " 2   Marital Status              386 non-null    object \n",
      " 3   Occupation                  386 non-null    object \n",
      " 4   Monthly Income              386 non-null    object \n",
      " 5   Educational Qualifications  386 non-null    object \n",
      " 6   Family size                 386 non-null    int64  \n",
      " 7   latitude                    386 non-null    float64\n",
      " 8   longitude                   386 non-null    float64\n",
      " 9   Pin code                    386 non-null    int64  \n",
      " 10  Medium (P1)                 386 non-null    object \n",
      " 11  Medium (P2)                 386 non-null    object \n",
      " 12  Meal(P1)                    386 non-null    object \n",
      " 13  Meal(P2)                    386 non-null    object \n",
      " 14  Perference(P1)              386 non-null    object \n",
      " 15  Perference(P2)              386 non-null    object \n",
      " 16  Maximum wait time           386 non-null    int32  \n",
      "dtypes: float64(2), int32(2), int64(2), object(11)\n",
      "memory usage: 48.4+ KB\n"
     ]
    }
   ],
   "source": [
    "df.info()"
   ]
  },
  {
   "cell_type": "code",
   "execution_count": 32,
   "metadata": {},
   "outputs": [
    {
     "data": {
      "text/plain": [
       "Student           205\n",
       "Employee          118\n",
       "Self Employeed     54\n",
       "House wife          9\n",
       "Name: Occupation, dtype: int64"
      ]
     },
     "execution_count": 32,
     "metadata": {},
     "output_type": "execute_result"
    }
   ],
   "source": [
    "# explore more the occupation column\n",
    "df[\"Occupation\"].value_counts()"
   ]
  },
  {
   "cell_type": "code",
   "execution_count": 35,
   "metadata": {},
   "outputs": [],
   "source": [
    "# save the data in csv file \n",
    "df.to_csv(\"food_delivery.csv\")"
   ]
  },
  {
   "cell_type": "code",
   "execution_count": null,
   "metadata": {},
   "outputs": [],
   "source": []
  }
 ],
 "metadata": {
  "kernelspec": {
   "display_name": "Python 3",
   "language": "python",
   "name": "python3"
  },
  "language_info": {
   "codemirror_mode": {
    "name": "ipython",
    "version": 3
   },
   "file_extension": ".py",
   "mimetype": "text/x-python",
   "name": "python",
   "nbconvert_exporter": "python",
   "pygments_lexer": "ipython3",
   "version": "3.7.6"
  }
 },
 "nbformat": 4,
 "nbformat_minor": 4
}
